{
 "cells": [
  {
   "cell_type": "code",
   "execution_count": 1,
   "id": "ce565e55",
   "metadata": {},
   "outputs": [
    {
     "name": "stdout",
     "output_type": "stream",
     "text": [
      "PyTorch có sử dụng CUDA (GPU) không: True\n",
      "Tên thiết bị CUDA: NVIDIA GeForce RTX 3050 Ti Laptop GPU\n"
     ]
    }
   ],
   "source": [
    "    import torch\n",
    "    print(f\"PyTorch có sử dụng CUDA (GPU) không: {torch.cuda.is_available()}\")\n",
    "    print(f\"Tên thiết bị CUDA: {torch.cuda.get_device_name(0) if torch.cuda.is_available() else 'Không có'}\")"
   ]
  },
  {
   "cell_type": "code",
   "execution_count": 2,
   "id": "e5882bd5",
   "metadata": {},
   "outputs": [
    {
     "name": "stdout",
     "output_type": "stream",
     "text": [
      "c:\\Users\\chong\\AppData\\Local\\Programs\\Python\\Python313\\python.exe\n"
     ]
    }
   ],
   "source": [
    "import sys\n",
    "print(sys.executable)"
   ]
  },
  {
   "cell_type": "code",
   "execution_count": 3,
   "id": "333c0ccb",
   "metadata": {},
   "outputs": [
    {
     "name": "stdout",
     "output_type": "stream",
     "text": [
      "Name: accelerate\n",
      "Version: 1.11.0\n",
      "Summary: Accelerate\n",
      "Home-page: https://github.com/huggingface/accelerate\n",
      "Author: The HuggingFace team\n",
      "Author-email: zach.mueller@huggingface.co\n",
      "License: Apache\n",
      "Location: C:\\Users\\chong\\AppData\\Local\\Programs\\Python\\Python313\\Lib\\site-packages\n",
      "Requires: huggingface_hub, numpy, packaging, psutil, pyyaml, safetensors, torch\n",
      "Required-by: \n",
      "Name: transformers\n",
      "Version: 4.57.1\n",
      "Summary: State-of-the-art Machine Learning for JAX, PyTorch and TensorFlow\n",
      "Home-page: https://github.com/huggingface/transformers\n",
      "Author: The Hugging Face team (past and future) with the help of all our contributors (https://github.com/huggingface/transformers/graphs/contributors)\n",
      "Author-email: transformers@huggingface.co\n",
      "License: Apache 2.0 License\n",
      "Location: C:\\Users\\chong\\AppData\\Local\\Programs\\Python\\Python313\\Lib\\site-packages\n",
      "Requires: filelock, huggingface-hub, numpy, packaging, pyyaml, regex, requests, safetensors, tokenizers, tqdm\n",
      "Required-by: \n"
     ]
    }
   ],
   "source": [
    "!pip show accelerate\n",
    "!pip show transformers"
   ]
  },
  {
   "cell_type": "code",
   "execution_count": 4,
   "id": "e74ea3f3",
   "metadata": {},
   "outputs": [
    {
     "name": "stderr",
     "output_type": "stream",
     "text": [
      "c:\\Users\\chong\\AppData\\Local\\Programs\\Python\\Python313\\Lib\\site-packages\\tqdm\\auto.py:21: TqdmWarning: IProgress not found. Please update jupyter and ipywidgets. See https://ipywidgets.readthedocs.io/en/stable/user_install.html\n",
      "  from .autonotebook import tqdm as notebook_tqdm\n"
     ]
    }
   ],
   "source": [
    "# Import các thư viện chính\n",
    "from transformers import AutoTokenizer, AutoModelForSequenceClassification, TrainingArguments, Trainer\n",
    "from datasets import load_dataset\n",
    "import numpy as np\n",
    "import evaluate\n",
    "import matplotlib.pyplot as plt"
   ]
  },
  {
   "cell_type": "code",
   "execution_count": null,
   "id": "28249f75",
   "metadata": {},
   "outputs": [
    {
     "name": "stdout",
     "output_type": "stream",
     "text": [
      "Đang tải tập dữ liệu IMDb...\n",
      "Đã tải xong tập dữ liệu.\n",
      "\n",
      "Đang lấy tập con nhỏ từ tập dữ liệu để huấn luyện và kiểm tra nhanh...\n",
      "Đã lấy tập con dữ liệu.\n",
      "\n",
      "Cấu trúc tập dữ liệu:\n",
      "DatasetDict({\n",
      "    train: Dataset({\n",
      "        features: ['text', 'label'],\n",
      "        num_rows: 1000\n",
      "    })\n",
      "    test: Dataset({\n",
      "        features: ['text', 'label'],\n",
      "        num_rows: 100\n",
      "    })\n",
      "    unsupervised: Dataset({\n",
      "        features: ['text', 'label'],\n",
      "        num_rows: 50000\n",
      "    })\n",
      "})\n"
     ]
    }
   ],
   "source": [
    "# Tải tập dữ liệu IMDb\n",
    "print(\"Đang tải tập dữ liệu IMDb...\")\n",
    "dataset = load_dataset(\"imdb\")\n",
    "print(\"Đã tải xong tập dữ liệu.\")\n",
    "print(\"\\nĐang lấy tập con nhỏ từ tập dữ liệu để huấn luyện và kiểm tra nhanh...\")\n",
    "dataset[\"train\"] = dataset[\"train\"].select(range(1000)) # Chỉ lấy 1000 mẫu cho huấn luyện\n",
    "dataset[\"test\"] = dataset[\"test\"].select(range(100))   # Chỉ lấy 100 mẫu cho kiểm tra\n",
    "print(\"Đã lấy tập con dữ liệu.\")\n",
    "# In cấu trúc dataset\n",
    "print(\"\\nCấu trúc tập dữ liệu:\")\n",
    "print(dataset)"
   ]
  },
  {
   "cell_type": "code",
   "execution_count": 6,
   "id": "bc5af6cf",
   "metadata": {},
   "outputs": [
    {
     "name": "stdout",
     "output_type": "stream",
     "text": [
      "\n",
      "Đang tải tokenizer cho mô hình: distilbert-base-uncased...\n",
      "Đã tải xong tokenizer.\n",
      "Đang tải mô hình đã huấn luyện trước cho phân loại chuỗi: distilbert-base-uncased...\n"
     ]
    },
    {
     "name": "stderr",
     "output_type": "stream",
     "text": [
      "Some weights of DistilBertForSequenceClassification were not initialized from the model checkpoint at distilbert-base-uncased and are newly initialized: ['classifier.bias', 'classifier.weight', 'pre_classifier.bias', 'pre_classifier.weight']\n",
      "You should probably TRAIN this model on a down-stream task to be able to use it for predictions and inference.\n"
     ]
    },
    {
     "name": "stdout",
     "output_type": "stream",
     "text": [
      "Đã tải xong mô hình.\n"
     ]
    }
   ],
   "source": [
    "# Chọn tên mô hình\n",
    "model_name = \"distilbert-base-uncased\"\n",
    "\n",
    "# Tải tokenizer\n",
    "print(f\"\\nĐang tải tokenizer cho mô hình: {model_name}...\")\n",
    "tokenizer = AutoTokenizer.from_pretrained(model_name)\n",
    "print(\"Đã tải xong tokenizer.\")\n",
    "\n",
    "# Tải mô hình cho phân loại chuỗi (2 nhãn)\n",
    "print(f\"Đang tải mô hình đã huấn luyện trước cho phân loại chuỗi: {model_name}...\")\n",
    "model = AutoModelForSequenceClassification.from_pretrained(model_name, num_labels=2)\n",
    "print(\"Đã tải xong mô hình.\")"
   ]
  },
  {
   "cell_type": "code",
   "execution_count": 7,
   "id": "8fb66f77",
   "metadata": {},
   "outputs": [
    {
     "name": "stdout",
     "output_type": "stream",
     "text": [
      "\n",
      "Đang token hóa tập dữ liệu...\n"
     ]
    },
    {
     "name": "stderr",
     "output_type": "stream",
     "text": [
      "Map: 100%|██████████| 1000/1000 [00:00<00:00, 2100.81 examples/s]\n",
      "Map: 100%|██████████| 100/100 [00:00<00:00, 1186.22 examples/s]\n"
     ]
    },
    {
     "name": "stdout",
     "output_type": "stream",
     "text": [
      "Đã token hóa xong tập dữ liệu.\n",
      "\n",
      "Cấu trúc tập dữ liệu sau tiền xử lý:\n",
      "DatasetDict({\n",
      "    train: Dataset({\n",
      "        features: ['labels', 'input_ids', 'attention_mask'],\n",
      "        num_rows: 1000\n",
      "    })\n",
      "    test: Dataset({\n",
      "        features: ['labels', 'input_ids', 'attention_mask'],\n",
      "        num_rows: 100\n",
      "    })\n",
      "    unsupervised: Dataset({\n",
      "        features: ['labels', 'input_ids', 'attention_mask'],\n",
      "        num_rows: 50000\n",
      "    })\n",
      "})\n"
     ]
    }
   ],
   "source": [
    "# Hàm token hóa văn bản\n",
    "def tokenize_function(examples):\n",
    "    return tokenizer(examples[\"text\"], truncation=True, padding=True)\n",
    "\n",
    "# Áp dụng token hóa\n",
    "print(\"\\nĐang token hóa tập dữ liệu...\")\n",
    "tokenized_datasets = dataset.map(tokenize_function, batched=True)\n",
    "print(\"Đã token hóa xong tập dữ liệu.\")\n",
    "\n",
    "# Làm sạch và định dạng lại dataset\n",
    "tokenized_datasets = tokenized_datasets.remove_columns([\"text\"])\n",
    "tokenized_datasets = tokenized_datasets.rename_column(\"label\", \"labels\")\n",
    "tokenized_datasets.set_format(\"torch\")\n",
    "\n",
    "# In cấu trúc dataset sau tiền xử lý\n",
    "print(\"\\nCấu trúc tập dữ liệu sau tiền xử lý:\")\n",
    "print(tokenized_datasets)"
   ]
  },
  {
   "cell_type": "code",
   "execution_count": 8,
   "id": "7d130026",
   "metadata": {},
   "outputs": [
    {
     "name": "stdout",
     "output_type": "stream",
     "text": [
      "\n",
      "Đang định nghĩa các đối số huấn luyện...\n",
      "Đã định nghĩa các đối số huấn luyện.\n",
      "\n",
      "Đang định nghĩa hàm tính toán chỉ số...\n",
      "Đã định nghĩa hàm tính toán chỉ số.\n"
     ]
    }
   ],
   "source": [
    "# Định nghĩa các tham số huấn luyện\n",
    "print(\"\\nĐang định nghĩa các đối số huấn luyện...\")\n",
    "training_args = TrainingArguments(\n",
    "    output_dir=\"./results\",                   # Thư mục để lưu kết quả và các checkpoint\n",
    "    eval_strategy=\"epoch\",                    # Thực hiện đánh giá sau mỗi epoch huấn luyện\n",
    "    learning_rate=2e-5,                       # Tốc độ học ban đầu\n",
    "    per_device_train_batch_size=4,            # Đã giảm xuống 4 để tối ưu VRAM hơn nữa\n",
    "    per_device_eval_batch_size=4,             # Đã giảm xuống 4 để tối ưu VRAM hơn nữa\n",
    "    gradient_accumulation_steps=4,            # Tích lũy gradient qua 4 bước để có batch size hiệu quả là 4*4=16\n",
    "    num_train_epochs=3,                       # Số lượng epoch huấn luyện\n",
    "    weight_decay=0.01,                        # Giá trị giảm trọng số để tránh overfitting\n",
    "    logging_dir='./logs',                     # Thư mục lưu log cho TensorBoard\n",
    "    logging_steps=500,                        # Ghi log sau mỗi 500 bước\n",
    "    save_strategy=\"epoch\",                    # Lưu mô hình sau mỗi epoch\n",
    "    load_best_model_at_end=True,            \n",
    "    metric_for_best_model=\"accuracy\",         # Chỉ số được sử dụng để xác định mô hình tốt nhất\n",
    "    push_to_hub=False,                        # Không đẩy mô hình lên Hugging Face Hub\n",
    "    fp16=True,                                # Bật Mixed Precision Training (FP16) để giảm sử dụng VRAM và tăng tốc độ\n",
    ")\n",
    "print(\"Đã định nghĩa các đối số huấn luyện.\")\n",
    "\n",
    "# Tải chỉ số \"accuracy\" (độ chính xác) từ thư viện evaluate\n",
    "print(\"\\nĐang định nghĩa hàm tính toán chỉ số...\")\n",
    "metric = evaluate.load(\"accuracy\")\n",
    "\n",
    "# Định nghĩa hàm compute_metrics để tính toán độ chính xác trong quá trình đánh giá\n",
    "def compute_metrics(eval_pred):\n",
    "    logits, labels = eval_pred # logits là đầu ra raw của mô hình, labels là nhãn thật\n",
    "    predictions = np.argmax(logits, axis=-1) # Chuyển logits thành dự đoán nhãn bằng cách lấy chỉ số lớn nhất\n",
    "    return metric.compute(predictions=predictions, references=labels) # Tính độ chính xác\n",
    "\n",
    "print(\"Đã định nghĩa hàm tính toán chỉ số.\")"
   ]
  },
  {
   "cell_type": "code",
   "execution_count": 9,
   "id": "2bea5cfd",
   "metadata": {},
   "outputs": [
    {
     "name": "stdout",
     "output_type": "stream",
     "text": [
      "\n",
      "Đang khởi tạo Trainer...\n"
     ]
    },
    {
     "name": "stderr",
     "output_type": "stream",
     "text": [
      "C:\\Users\\chong\\AppData\\Local\\Temp\\ipykernel_15096\\1401219555.py:3: FutureWarning: `tokenizer` is deprecated and will be removed in version 5.0.0 for `Trainer.__init__`. Use `processing_class` instead.\n",
      "  trainer = Trainer(\n"
     ]
    },
    {
     "name": "stdout",
     "output_type": "stream",
     "text": [
      "Đã khởi tạo Trainer.\n",
      "\n",
      "Bắt đầu huấn luyện mô hình (tinh chỉnh)...\n"
     ]
    },
    {
     "data": {
      "text/html": [
       "\n",
       "    <div>\n",
       "      \n",
       "      <progress value='189' max='189' style='width:300px; height:20px; vertical-align: middle;'></progress>\n",
       "      [189/189 01:08, Epoch 3/3]\n",
       "    </div>\n",
       "    <table border=\"1\" class=\"dataframe\">\n",
       "  <thead>\n",
       " <tr style=\"text-align: left;\">\n",
       "      <th>Epoch</th>\n",
       "      <th>Training Loss</th>\n",
       "      <th>Validation Loss</th>\n",
       "      <th>Accuracy</th>\n",
       "    </tr>\n",
       "  </thead>\n",
       "  <tbody>\n",
       "    <tr>\n",
       "      <td>1</td>\n",
       "      <td>No log</td>\n",
       "      <td>0.002639</td>\n",
       "      <td>1.000000</td>\n",
       "    </tr>\n",
       "    <tr>\n",
       "      <td>2</td>\n",
       "      <td>No log</td>\n",
       "      <td>0.001203</td>\n",
       "      <td>1.000000</td>\n",
       "    </tr>\n",
       "    <tr>\n",
       "      <td>3</td>\n",
       "      <td>No log</td>\n",
       "      <td>0.000963</td>\n",
       "      <td>1.000000</td>\n",
       "    </tr>\n",
       "  </tbody>\n",
       "</table><p>"
      ],
      "text/plain": [
       "<IPython.core.display.HTML object>"
      ]
     },
     "metadata": {},
     "output_type": "display_data"
    },
    {
     "name": "stdout",
     "output_type": "stream",
     "text": [
      "Huấn luyện mô hình đã hoàn tất.\n"
     ]
    }
   ],
   "source": [
    "# Khởi tạo đối tượng Trainer\n",
    "print(\"\\nĐang khởi tạo Trainer...\")\n",
    "trainer = Trainer(\n",
    "    model=model,                              # Mô hình cần huấn luyện\n",
    "    args=training_args,                       # Các đối số huấn luyện đã định nghĩa\n",
    "    train_dataset=tokenized_datasets[\"train\"], # Tập dữ liệu huấn luyện\n",
    "    eval_dataset=tokenized_datasets[\"test\"],   # Tập dữ liệu để đánh giá trong quá trình huấn luyện\n",
    "    tokenizer=tokenizer,                      # Tokenizer đã sử dụng\n",
    "    compute_metrics=compute_metrics,          # Hàm để tính các chỉ số đánh giá\n",
    ")\n",
    "print(\"Đã khởi tạo Trainer.\")\n",
    "\n",
    "# Bắt đầu quá trình huấn luyện (fine-tuning) mô hình\n",
    "print(\"\\nBắt đầu huấn luyện mô hình (tinh chỉnh)...\")\n",
    "train_result = trainer.train()\n",
    "print(\"Huấn luyện mô hình đã hoàn tất.\")\n",
    "\n",
    "# Lấy lịch sử log của quá trình huấn luyện (chứa loss, accuracy, v.v.)\n",
    "log_history = trainer.state.log_history"
   ]
  },
  {
   "cell_type": "code",
   "execution_count": 10,
   "id": "24781064",
   "metadata": {},
   "outputs": [
    {
     "name": "stdout",
     "output_type": "stream",
     "text": [
      "\n",
      "Đang đánh giá mô hình đã tinh chỉnh...\n"
     ]
    },
    {
     "data": {
      "text/html": [
       "\n",
       "    <div>\n",
       "      \n",
       "      <progress value='25' max='25' style='width:300px; height:20px; vertical-align: middle;'></progress>\n",
       "      [25/25 00:00]\n",
       "    </div>\n",
       "    "
      ],
      "text/plain": [
       "<IPython.core.display.HTML object>"
      ]
     },
     "metadata": {},
     "output_type": "display_data"
    },
    {
     "name": "stdout",
     "output_type": "stream",
     "text": [
      "Kết quả đánh giá: {'eval_loss': 0.002639389131218195, 'eval_accuracy': 1.0, 'eval_runtime': 0.6622, 'eval_samples_per_second': 151.003, 'eval_steps_per_second': 37.751, 'epoch': 3.0}\n"
     ]
    },
    {
     "data": {
      "image/png": "[encoded data removed]",
      "text/plain": [
       "<Figure size 1200x500 with 2 Axes>"
      ]
     },
     "metadata": {},
     "output_type": "display_data"
    },
    {
     "name": "stdout",
     "output_type": "stream",
     "text": [
      "\n",
      "--- Bài tập 2 Hoàn thành ---\n"
     ]
    }
   ],
   "source": [
    "# Đánh giá mô hình\n",
    "print(\"\\nĐang đánh giá mô hình đã tinh chỉnh...\")\n",
    "evaluation_results = trainer.evaluate()\n",
    "print(f\"Kết quả đánh giá: {evaluation_results}\")\n",
    "\n",
    "# Trích xuất dữ liệu cho biểu đồ\n",
    "train_losses = [entry['loss'] for entry in log_history if 'loss' in entry]\n",
    "eval_losses = [entry['eval_loss'] for entry in log_history if 'eval_loss' in entry]\n",
    "eval_accuracy = [entry['eval_accuracy'] for entry in log_history if 'eval_accuracy' in entry]\n",
    "epochs = range(1, len(eval_losses) + 1)\n",
    "\n",
    "# Vẽ biểu đồ Loss\n",
    "plt.figure(figsize=(12, 5))\n",
    "plt.subplot(1, 2, 1)\n",
    "plt.plot(train_losses, label='Loss huấn luyện')\n",
    "plt.plot(epochs, eval_losses, label='Loss kiểm tra')\n",
    "plt.title('Loss huấn luyện và kiểm tra qua các Epoch')\n",
    "plt.xlabel('Số bước (xấp xỉ theo epoch)')\n",
    "plt.ylabel('Loss')\n",
    "plt.legend()\n",
    "plt.grid(True)\n",
    "\n",
    "# Vẽ biểu đồ Accuracy\n",
    "plt.subplot(1, 2, 2)\n",
    "plt.plot(epochs, eval_accuracy, label='Độ chính xác kiểm tra', color='orange')\n",
    "plt.title('Độ chính xác kiểm tra qua các Epoch')\n",
    "plt.xlabel('Epoch')\n",
    "plt.ylabel('Độ chính xác')\n",
    "plt.legend()\n",
    "plt.grid(True)\n",
    "\n",
    "plt.tight_layout()\n",
    "plt.show()\n",
    "\n",
    "print(\"\\n--- Bài tập 2 Hoàn thành ---\")"
   ]
  }
 ],
 "metadata": {
  "kernelspec": {
   "display_name": "Python 3",
   "language": "python",
   "name": "python3"
  },
  "language_info": {
   "codemirror_mode": {
    "name": "ipython",
    "version": 3
   },
   "file_extension": ".py",
   "mimetype": "text/x-python",
   "name": "python",
   "nbconvert_exporter": "python",
   "pygments_lexer": "ipython3",
   "version": "3.13.5"
  }
 },
 "nbformat": 4,
 "nbformat_minor": 5
}
