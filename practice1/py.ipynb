{
 "cells": [
  {
   "cell_type": "code",
   "execution_count": 37,
   "id": "f2d7ab0a",
   "metadata": {},
   "outputs": [],
   "source": [
    "import torch\n",
    "from torch import nn\n",
    "from torchvision import datasets\n",
    "from torch.utils.data import DataLoader\n",
    "from torchvision.transforms import ToTensor"
   ]
  },
  {
   "cell_type": "code",
   "execution_count": 38,
   "id": "ae58acc0",
   "metadata": {},
   "outputs": [],
   "source": [
    "#Dowload training data from open datasets\n",
    "training_data = datasets.FashionMNIST(\n",
    "    root=\"data\",\n",
    "    train=True,\n",
    "    download=True,\n",
    "    transform=ToTensor(),\n",
    ")\n",
    "\n",
    "test_data = datasets.FashionMNIST(\n",
    "    root=\"data\",\n",
    "    train=False,\n",
    "    download=True,\n",
    "    transform=ToTensor(),\n",
    ")"
   ]
  },
  {
   "cell_type": "code",
   "execution_count": 39,
   "id": "9cfb903e",
   "metadata": {},
   "outputs": [
    {
     "name": "stdout",
     "output_type": "stream",
     "text": [
      "Shape of X [N, C, H, W]: torch.Size([64, 1, 28, 28])\n",
      "Shape of y: torch.Size([64]) torch.int64\n"
     ]
    }
   ],
   "source": [
    "# Create data loaders\n",
    "train_dataloader = DataLoader(training_data, batch_size=64)\n",
    "test_dataloader = DataLoader(test_data, batch_size=64)\n",
    "\n",
    "for X,y in test_dataloader:\n",
    "    print(f\"Shape of X [N, C, H, W]: {X.shape}\")\n",
    "    print(f\"Shape of y: {y.shape} {y.dtype}\")\n",
    "    break"
   ]
  },
  {
   "cell_type": "code",
   "execution_count": 40,
   "id": "244c4704",
   "metadata": {},
   "outputs": [
    {
     "name": "stdout",
     "output_type": "stream",
     "text": [
      "Using cpu device\n",
      "NeuralNetwork(\n",
      "  (flatten): Flatten(start_dim=1, end_dim=-1)\n",
      "  (linear_relu_stack): Sequential(\n",
      "    (0): Linear(in_features=784, out_features=512, bias=True)\n",
      "    (1): ReLU()\n",
      "    (2): Linear(in_features=512, out_features=512, bias=True)\n",
      "    (3): ReLU()\n",
      "    (4): Linear(in_features=512, out_features=10, bias=True)\n",
      "  )\n",
      ")\n"
     ]
    }
   ],
   "source": [
    "# Creating model\n",
    "device = torch.accelerator.current_accelerator().type if torch.accelerator.is_available() else \"cpu\"\n",
    "print(f\"Using {device} device\")\n",
    "\n",
    "#Define model\n",
    "class NeuralNetwork(nn.Module):\n",
    "    def __init__(self):\n",
    "        super().__init__()\n",
    "        self.flatten = nn.Flatten()\n",
    "        self.linear_relu_stack = nn.Sequential(\n",
    "            nn.Linear(28*28, 512),\n",
    "            nn.ReLU(),\n",
    "            nn.Linear(512,512),\n",
    "            nn.ReLU(),\n",
    "            nn.Linear(512,10)\n",
    "        )\n",
    "\n",
    "    def forward(self, x):\n",
    "        x = self.flatten(x)\n",
    "        logits = self.linear_relu_stack(x)\n",
    "        return logits\n",
    "\n",
    "model = NeuralNetwork().to(device)\n",
    "print(model)"
   ]
  },
  {
   "cell_type": "code",
   "execution_count": 41,
   "id": "31875c23",
   "metadata": {},
   "outputs": [],
   "source": [
    "#Optimizing the model parameters\n",
    "loss_fn = nn.CrossEntropyLoss()\n",
    "optimizer = torch.optim.SGD(model.parameters(), lr=1e-3)"
   ]
  },
  {
   "cell_type": "code",
   "execution_count": 42,
   "id": "4d8533e3",
   "metadata": {},
   "outputs": [],
   "source": [
    "def train(dataloader, model, loss_fn, optimizer):\n",
    "    size = len(dataloader.dataset)\n",
    "    model.train()\n",
    "    total_loss = 0\n",
    "\n",
    "    for batch, (X, y) in enumerate(dataloader):\n",
    "        X, y = X.to(device), y.to(device)\n",
    "\n",
    "        # Forward pass\n",
    "        pred = model(X)\n",
    "        loss = loss_fn(pred, y)\n",
    "\n",
    "        # Backpropagation\n",
    "        optimizer.zero_grad()   # reset gradients\n",
    "        loss.backward()\n",
    "        optimizer.step()\n",
    "\n",
    "        # Ghi nhận loss\n",
    "        total_loss += loss.item()\n",
    "\n",
    "        if batch % 100 == 0:\n",
    "            current = (batch + 1) * len(X)\n",
    "            print(f\"loss: {loss.item():>7f}  [{current:>5d}/{size:>5d}]\")\n",
    "\n",
    "    # Tính loss trung bình sau khi epoch kết thúc\n",
    "    avg_loss = total_loss / len(dataloader)\n",
    "    print(f\"Average training loss: {avg_loss:.4f}\")\n",
    "    return avg_loss\n"
   ]
  },
  {
   "cell_type": "code",
   "execution_count": 43,
   "id": "64999e67",
   "metadata": {},
   "outputs": [],
   "source": [
    "#Test loop\n",
    "def test(dataloader, model, loss_fn):\n",
    "    size = len(dataloader.dataset)\n",
    "    num_batches = len(dataloader)\n",
    "    model.eval()\n",
    "    test_loss, correct = 0, 0\n",
    "    with torch.no_grad():\n",
    "        for X, y in dataloader:\n",
    "            X, y = X.to(device), y.to(device)\n",
    "            pred = model(X)\n",
    "            test_loss += loss_fn(pred, y).item()\n",
    "            correct += (pred.argmax(1) == y).type(torch.float).sum().item()\n",
    "    test_loss /= num_batches\n",
    "    correct /= size\n",
    "    print(f\"Test Error: \\n Accuracy: {(100*correct):>0.1f}%, Avg loss: {test_loss:>8f} \\n\")"
   ]
  },
  {
   "cell_type": "code",
   "execution_count": 44,
   "id": "20254cf2",
   "metadata": {},
   "outputs": [
    {
     "name": "stdout",
     "output_type": "stream",
     "text": [
      "Epoch 1\n",
      "-------------------------------\n",
      "loss: 2.297323  [   64/60000]\n",
      "loss: 2.293706  [ 6464/60000]\n",
      "loss: 2.274116  [12864/60000]\n",
      "loss: 2.265240  [19264/60000]\n",
      "loss: 2.247516  [25664/60000]\n",
      "loss: 2.216133  [32064/60000]\n",
      "loss: 2.215987  [38464/60000]\n",
      "loss: 2.181884  [44864/60000]\n",
      "loss: 2.176747  [51264/60000]\n",
      "loss: 2.145370  [57664/60000]\n",
      "Average training loss: 2.2262\n",
      "Test Error: \n",
      " Accuracy: 51.3%, Avg loss: 2.140332 \n",
      "\n",
      "Epoch 2\n",
      "-------------------------------\n",
      "loss: 2.141629  [   64/60000]\n",
      "loss: 2.144020  [ 6464/60000]\n",
      "loss: 2.079371  [12864/60000]\n",
      "loss: 2.103610  [19264/60000]\n",
      "loss: 2.047415  [25664/60000]\n",
      "loss: 1.983229  [32064/60000]\n",
      "loss: 2.007242  [38464/60000]\n",
      "loss: 1.925161  [44864/60000]\n",
      "loss: 1.928908  [51264/60000]\n",
      "loss: 1.859448  [57664/60000]\n",
      "Average training loss: 2.0110\n",
      "Test Error: \n",
      " Accuracy: 61.1%, Avg loss: 1.855879 \n",
      "\n",
      "Epoch 3\n",
      "-------------------------------\n",
      "loss: 1.881280  [   64/60000]\n",
      "loss: 1.861425  [ 6464/60000]\n",
      "loss: 1.734812  [12864/60000]\n",
      "loss: 1.786080  [19264/60000]\n",
      "loss: 1.670943  [25664/60000]\n",
      "loss: 1.620968  [32064/60000]\n",
      "loss: 1.637207  [38464/60000]\n",
      "loss: 1.538159  [44864/60000]\n",
      "loss: 1.565085  [51264/60000]\n",
      "loss: 1.456222  [57664/60000]\n",
      "Average training loss: 1.6584\n",
      "Test Error: \n",
      " Accuracy: 62.2%, Avg loss: 1.475407 \n",
      "\n",
      "Epoch 4\n",
      "-------------------------------\n",
      "loss: 1.539860  [   64/60000]\n",
      "loss: 1.510985  [ 6464/60000]\n",
      "loss: 1.353623  [12864/60000]\n",
      "loss: 1.438443  [19264/60000]\n",
      "loss: 1.311074  [25664/60000]\n",
      "loss: 1.307735  [32064/60000]\n",
      "loss: 1.317824  [38464/60000]\n",
      "loss: 1.245236  [44864/60000]\n",
      "loss: 1.286183  [51264/60000]\n",
      "loss: 1.180380  [57664/60000]\n",
      "Average training loss: 1.3247\n",
      "Test Error: \n",
      " Accuracy: 63.7%, Avg loss: 1.208614 \n",
      "\n",
      "Epoch 5\n",
      "-------------------------------\n",
      "loss: 1.283680  [   64/60000]\n",
      "loss: 1.269180  [ 6464/60000]\n",
      "loss: 1.096697  [12864/60000]\n",
      "loss: 1.219167  [19264/60000]\n",
      "loss: 1.088731  [25664/60000]\n",
      "loss: 1.111875  [32064/60000]\n",
      "loss: 1.131144  [38464/60000]\n",
      "loss: 1.070644  [44864/60000]\n",
      "loss: 1.118424  [51264/60000]\n",
      "loss: 1.025997  [57664/60000]\n",
      "Average training loss: 1.1144\n",
      "Test Error: \n",
      " Accuracy: 65.0%, Avg loss: 1.049958 \n",
      "\n",
      "Done!\n"
     ]
    }
   ],
   "source": [
    "# Training + track loss\n",
    "import matplotlib.pyplot as plt\n",
    "\n",
    "epochs = 5\n",
    "train_losses = []\n",
    "\n",
    "for t in range(epochs):\n",
    "    print(f\"Epoch {t+1}\\n-------------------------------\")\n",
    "    train_loss = train(train_dataloader, model, loss_fn, optimizer)\n",
    "    test(test_dataloader, model, loss_fn)\n",
    "    train_losses.append(train_loss)\n",
    "\n",
    "print(\"Done!\")"
   ]
  },
  {
   "cell_type": "code",
   "execution_count": 45,
   "id": "774bd7b6",
   "metadata": {},
   "outputs": [
    {
     "name": "stdout",
     "output_type": "stream",
     "text": [
      "Saved PyTorch Model State to model.pth\n"
     ]
    }
   ],
   "source": [
    "#Saving model\n",
    "torch.save(model.state_dict(), \"model.pth\")\n",
    "print(\"Saved PyTorch Model State to model.pth\")"
   ]
  },
  {
   "cell_type": "code",
   "execution_count": 46,
   "id": "bcd580b4",
   "metadata": {},
   "outputs": [
    {
     "data": {
      "text/plain": [
       "<All keys matched successfully>"
      ]
     },
     "execution_count": 46,
     "metadata": {},
     "output_type": "execute_result"
    }
   ],
   "source": [
    "#Loading model\n",
    "model = NeuralNetwork().to(device)\n",
    "model.load_state_dict(torch.load(\"model.pth\", weights_only=True))"
   ]
  },
  {
   "cell_type": "code",
   "execution_count": 47,
   "id": "5d2517df",
   "metadata": {},
   "outputs": [
    {
     "name": "stdout",
     "output_type": "stream",
     "text": [
      "Predicted: \"Ankle boot\", Actual: \"Ankle boot\"\n"
     ]
    }
   ],
   "source": [
    "#This model can now be used to make predictions.\n",
    "classes = [\n",
    "    \"T-shirt/top\",\n",
    "    \"Trouser\",\n",
    "    \"Pullover\",\n",
    "    \"Dress\",\n",
    "    \"Coat\",\n",
    "    \"Sandal\",\n",
    "    \"Shirt\",\n",
    "    \"Sneaker\",\n",
    "    \"Bag\",\n",
    "    \"Ankle boot\",\n",
    "]\n",
    "\n",
    "model.eval()\n",
    "x, y = test_data[0][0], test_data[0][1]\n",
    "with torch.no_grad():\n",
    "    x = x.to(device)\n",
    "    pred = model(x)\n",
    "    predicted, actual = classes[pred[0].argmax(0)], classes[y]\n",
    "    print(f'Predicted: \"{predicted}\", Actual: \"{actual}\"')"
   ]
  },
  {
   "cell_type": "markdown",
   "id": "3f660742",
   "metadata": {},
   "source": [
    "# Task\n",
    "○ Experiment with network/hyperparameters. \n",
    "\n",
    "○ Visualize loss. \n",
    "\n",
    "○ Display predicted vs actual images."
   ]
  },
  {
   "cell_type": "code",
   "execution_count": 48,
   "id": "79879c3b",
   "metadata": {},
   "outputs": [
    {
     "data": {
      "image/png": "[encoded data removed]",
      "text/plain": [
       "<Figure size 700x400 with 1 Axes>"
      ]
     },
     "metadata": {},
     "output_type": "display_data"
    }
   ],
   "source": [
    "#Visualie loss\n",
    "plt.figure(figsize=(7,4))\n",
    "plt.plot(range(1, len(train_losses)+1), train_losses, marker='o')\n",
    "plt.title(\"Training Loss over Epochs\")\n",
    "plt.xlabel(\"Epoch\")\n",
    "plt.ylabel(\"Loss\")\n",
    "plt.grid(True)\n",
    "plt.show()"
   ]
  },
  {
   "cell_type": "code",
   "execution_count": null,
   "id": "74dfc1f5",
   "metadata": {},
   "outputs": [],
   "source": [
    "# --- Display predicted vs actual images ---\n",
    "import matplotlib.pyplot as plt\n",
    "import numpy as np\n",
    "\n",
    "# Đặt model sang chế độ đánh giá (evaluation)\n",
    "model.eval()\n",
    "\n",
    "# Lấy 1 batch từ test_dataloader\n",
    "dataiter = iter(test_dataloader)\n",
    "images, labels = next(dataiter)\n",
    "images, labels = images.to(device), labels.to(device)\n",
    "\n",
    "# Dự đoán\n",
    "with torch.no_grad():\n",
    "    outputs = model(images)\n",
    "    _, preds = torch.max(outputs, 1)\n",
    "\n",
    "# Hiển thị 9 ảnh đầu tiên\n",
    "fig, axes = plt.subplots(3, 3, figsize=(8, 8))\n",
    "for i, ax in enumerate(axes.flat):\n",
    "    ax.imshow(images[i][0].cpu().numpy(), cmap='gray')  # nếu ảnh là grayscale (như MNIST)\n",
    "    ax.set_title(f\"Pred: {preds[i].item()} / True: {labels[i].item()}\")\n",
    "    ax.axis('off')\n",
    "\n",
    "plt.tight_layout()\n",
    "plt.show()\n"
   ]
  }
 ],
 "metadata": {
  "kernelspec": {
   "display_name": "Python 3",
   "language": "python",
   "name": "python3"
  },
  "language_info": {
   "codemirror_mode": {
    "name": "ipython",
    "version": 3
   },
   "file_extension": ".py",
   "mimetype": "text/x-python",
   "name": "python",
   "nbconvert_exporter": "python",
   "pygments_lexer": "ipython3",
   "version": "3.13.1"
  }
 },
 "nbformat": 4,
 "nbformat_minor": 5
}
