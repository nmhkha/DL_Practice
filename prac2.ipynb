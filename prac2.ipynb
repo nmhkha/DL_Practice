{
 "cells": [
  {
   "cell_type": "code",
   "execution_count": null,
   "id": "3982ecf0",
   "metadata": {},
   "outputs": [
    {
     "name": "stdout",
     "output_type": "stream",
     "text": [
      "Đã khởi tạo SummaryWriter cho TensorBoard.\n"
     ]
    }
   ],
   "source": [
    "\n",
    "# Import thư viện cần thiết cho TensorBoard\n",
    "from torch.utils.tensorboard import SummaryWriter\n",
    "\n",
    "# Khởi tạo SummaryWriter cho TensorBoard\n",
    "writer = SummaryWriter('runs/cifar10_resnet18_experiment')\n",
    "print(\"Đã khởi tạo SummaryWriter cho TensorBoard.\")"
   ]
  },
  {
   "cell_type": "code",
   "execution_count": 7,
   "id": "a09a431f",
   "metadata": {},
   "outputs": [
    {
     "name": "stdout",
     "output_type": "stream",
     "text": [
      "Kiểu của biến 'writer': <class 'torch.utils.tensorboard.writer.SummaryWriter'>\n",
      "Giá trị của biến 'writer': <torch.utils.tensorboard.writer.SummaryWriter object at 0x000001A8A2EDEE40>\n"
     ]
    }
   ],
   "source": [
    "print(f\"Kiểu của biến 'writer': {type(writer)}\")\n",
    "print(f\"Giá trị của biến 'writer': {writer}\")"
   ]
  },
  {
   "cell_type": "code",
   "execution_count": 1,
   "id": "307a0cda",
   "metadata": {},
   "outputs": [
    {
     "name": "stdout",
     "output_type": "stream",
     "text": [
      "Đang tải tập dữ liệu CIFAR-10 vào thư mục: ./data\n"
     ]
    },
    {
     "name": "stderr",
     "output_type": "stream",
     "text": [
      "100%|██████████| 170M/170M [00:14<00:00, 12.1MB/s] \n"
     ]
    },
    {
     "name": "stdout",
     "output_type": "stream",
     "text": [
      "Đã tải xong tập huấn luyện CIFAR-10.\n",
      "Đã tải xong tập kiểm tra CIFAR-10.\n",
      "Dữ liệu CIFAR-10 đã được tải xuống và lưu trữ.\n"
     ]
    }
   ],
   "source": [
    "# Tải xuống dữ liệu CIFAR-10\n",
    "import torchvision\n",
    "import torchvision.transforms as transforms\n",
    "\n",
    "# Định nghĩa một phép biến đổi cơ bản (chỉ cần để khởi tạo Dataset)\n",
    "transform_download = transforms.Compose([\n",
    "    transforms.ToTensor(),\n",
    "])\n",
    "\n",
    "# Đường dẫn mà dữ liệu sẽ được tải xuống\n",
    "# Đảm bảo đường dẫn này tương ứng với root_dir mà chúng ta sẽ sử dụng sau này.\n",
    "data_download_root = './data'\n",
    "\n",
    "print(f\"Đang tải tập dữ liệu CIFAR-10 vào thư mục: {data_download_root}\")\n",
    "trainset_download = torchvision.datasets.CIFAR10(root=data_download_root, train=True,\n",
    "                                                 download=True, transform=transform_download)\n",
    "print(\"Đã tải xong tập huấn luyện CIFAR-10.\")\n",
    "\n",
    "testset_download = torchvision.datasets.CIFAR10(root=data_download_root, train=False,\n",
    "                                                download=True, transform=transform_download)\n",
    "print(\"Đã tải xong tập kiểm tra CIFAR-10.\")\n",
    "print(\"Dữ liệu CIFAR-10 đã được tải xuống và lưu trữ.\")"
   ]
  },
  {
   "cell_type": "code",
   "execution_count": null,
   "id": "825d5407",
   "metadata": {},
   "outputs": [
    {
     "name": "stdout",
     "output_type": "stream",
     "text": [
      "Đang tải mô hình ResNet-18 đã được huấn luyện trước...\n",
      "Đã tải xong mô hình ResNet-18.\n",
      "\n",
      "Cấu trúc mô hình ResNet-18:\n",
      "ResNet(\n",
      "  (conv1): Conv2d(3, 64, kernel_size=(7, 7), stride=(2, 2), padding=(3, 3), bias=False)\n",
      "  (bn1): BatchNorm2d(64, eps=1e-05, momentum=0.1, affine=True, track_running_stats=True)\n",
      "  (relu): ReLU(inplace=True)\n",
      "  (maxpool): MaxPool2d(kernel_size=3, stride=2, padding=1, dilation=1, ceil_mode=False)\n",
      "  (layer1): Sequential(\n",
      "    (0): BasicBlock(\n",
      "      (conv1): Conv2d(64, 64, kernel_size=(3, 3), stride=(1, 1), padding=(1, 1), bias=False)\n",
      "      (bn1): BatchNorm2d(64, eps=1e-05, momentum=0.1, affine=True, track_running_stats=True)\n",
      "      (relu): ReLU(inplace=True)\n",
      "      (conv2): Conv2d(64, 64, kernel_size=(3, 3), stride=(1, 1), padding=(1, 1), bias=False)\n",
      "      (bn2): BatchNorm2d(64, eps=1e-05, momentum=0.1, affine=True, track_running_stats=True)\n",
      "    )\n",
      "    (1): BasicBlock(\n",
      "      (conv1): Conv2d(64, 64, kernel_size=(3, 3), stride=(1, 1), padding=(1, 1), bias=False)\n",
      "      (bn1): BatchNorm2d(64, eps=1e-05, momentum=0.1, affine=True, track_running_stats=True)\n",
      "      (relu): ReLU(inplace=True)\n",
      "      (conv2): Conv2d(64, 64, kernel_size=(3, 3), stride=(1, 1), padding=(1, 1), bias=False)\n",
      "      (bn2): BatchNorm2d(64, eps=1e-05, momentum=0.1, affine=True, track_running_stats=True)\n",
      "    )\n",
      "  )\n",
      "  (layer2): Sequential(\n",
      "    (0): BasicBlock(\n",
      "      (conv1): Conv2d(64, 128, kernel_size=(3, 3), stride=(2, 2), padding=(1, 1), bias=False)\n",
      "      (bn1): BatchNorm2d(128, eps=1e-05, momentum=0.1, affine=True, track_running_stats=True)\n",
      "      (relu): ReLU(inplace=True)\n",
      "      (conv2): Conv2d(128, 128, kernel_size=(3, 3), stride=(1, 1), padding=(1, 1), bias=False)\n",
      "      (bn2): BatchNorm2d(128, eps=1e-05, momentum=0.1, affine=True, track_running_stats=True)\n",
      "      (downsample): Sequential(\n",
      "        (0): Conv2d(64, 128, kernel_size=(1, 1), stride=(2, 2), bias=False)\n",
      "        (1): BatchNorm2d(128, eps=1e-05, momentum=0.1, affine=True, track_running_stats=True)\n",
      "      )\n",
      "    )\n",
      "    (1): BasicBlock(\n",
      "      (conv1): Conv2d(128, 128, kernel_size=(3, 3), stride=(1, 1), padding=(1, 1), bias=False)\n",
      "      (bn1): BatchNorm2d(128, eps=1e-05, momentum=0.1, affine=True, track_running_stats=True)\n",
      "      (relu): ReLU(inplace=True)\n",
      "      (conv2): Conv2d(128, 128, kernel_size=(3, 3), stride=(1, 1), padding=(1, 1), bias=False)\n",
      "      (bn2): BatchNorm2d(128, eps=1e-05, momentum=0.1, affine=True, track_running_stats=True)\n",
      "    )\n",
      "  )\n",
      "  (layer3): Sequential(\n",
      "    (0): BasicBlock(\n",
      "      (conv1): Conv2d(128, 256, kernel_size=(3, 3), stride=(2, 2), padding=(1, 1), bias=False)\n",
      "      (bn1): BatchNorm2d(256, eps=1e-05, momentum=0.1, affine=True, track_running_stats=True)\n",
      "      (relu): ReLU(inplace=True)\n",
      "      (conv2): Conv2d(256, 256, kernel_size=(3, 3), stride=(1, 1), padding=(1, 1), bias=False)\n",
      "      (bn2): BatchNorm2d(256, eps=1e-05, momentum=0.1, affine=True, track_running_stats=True)\n",
      "      (downsample): Sequential(\n",
      "        (0): Conv2d(128, 256, kernel_size=(1, 1), stride=(2, 2), bias=False)\n",
      "        (1): BatchNorm2d(256, eps=1e-05, momentum=0.1, affine=True, track_running_stats=True)\n",
      "      )\n",
      "    )\n",
      "    (1): BasicBlock(\n",
      "      (conv1): Conv2d(256, 256, kernel_size=(3, 3), stride=(1, 1), padding=(1, 1), bias=False)\n",
      "      (bn1): BatchNorm2d(256, eps=1e-05, momentum=0.1, affine=True, track_running_stats=True)\n",
      "      (relu): ReLU(inplace=True)\n",
      "      (conv2): Conv2d(256, 256, kernel_size=(3, 3), stride=(1, 1), padding=(1, 1), bias=False)\n",
      "      (bn2): BatchNorm2d(256, eps=1e-05, momentum=0.1, affine=True, track_running_stats=True)\n",
      "    )\n",
      "  )\n",
      "  (layer4): Sequential(\n",
      "    (0): BasicBlock(\n",
      "      (conv1): Conv2d(256, 512, kernel_size=(3, 3), stride=(2, 2), padding=(1, 1), bias=False)\n",
      "      (bn1): BatchNorm2d(512, eps=1e-05, momentum=0.1, affine=True, track_running_stats=True)\n",
      "      (relu): ReLU(inplace=True)\n",
      "      (conv2): Conv2d(512, 512, kernel_size=(3, 3), stride=(1, 1), padding=(1, 1), bias=False)\n",
      "      (bn2): BatchNorm2d(512, eps=1e-05, momentum=0.1, affine=True, track_running_stats=True)\n",
      "      (downsample): Sequential(\n",
      "        (0): Conv2d(256, 512, kernel_size=(1, 1), stride=(2, 2), bias=False)\n",
      "        (1): BatchNorm2d(512, eps=1e-05, momentum=0.1, affine=True, track_running_stats=True)\n",
      "      )\n",
      "    )\n",
      "    (1): BasicBlock(\n",
      "      (conv1): Conv2d(512, 512, kernel_size=(3, 3), stride=(1, 1), padding=(1, 1), bias=False)\n",
      "      (bn1): BatchNorm2d(512, eps=1e-05, momentum=0.1, affine=True, track_running_stats=True)\n",
      "      (relu): ReLU(inplace=True)\n",
      "      (conv2): Conv2d(512, 512, kernel_size=(3, 3), stride=(1, 1), padding=(1, 1), bias=False)\n",
      "      (bn2): BatchNorm2d(512, eps=1e-05, momentum=0.1, affine=True, track_running_stats=True)\n",
      "    )\n",
      "  )\n",
      "  (avgpool): AdaptiveAvgPool2d(output_size=(1, 1))\n",
      "  (fc): Linear(in_features=512, out_features=1000, bias=True)\n",
      ")\n",
      "\n",
      "Đã thay đổi lớp cuối cùng của ResNet-18 để có 10 lớp đầu ra.\n"
     ]
    },
    {
     "name": "stderr",
     "output_type": "stream",
     "text": [
      "c:\\Users\\chong\\AppData\\Local\\Programs\\Python\\Python313\\Lib\\site-packages\\torchvision\\models\\_utils.py:208: UserWarning: The parameter 'pretrained' is deprecated since 0.13 and may be removed in the future, please use 'weights' instead.\n",
      "  warnings.warn(\n",
      "c:\\Users\\chong\\AppData\\Local\\Programs\\Python\\Python313\\Lib\\site-packages\\torchvision\\models\\_utils.py:223: UserWarning: Arguments other than a weight enum or `None` for 'weights' are deprecated since 0.13 and may be removed in the future. The current behavior is equivalent to passing `weights=ResNet18_Weights.IMAGENET1K_V1`. You can also use `weights=ResNet18_Weights.DEFAULT` to get the most up-to-date weights.\n",
      "  warnings.warn(msg)\n"
     ]
    },
    {
     "name": "stdout",
     "output_type": "stream",
     "text": [
      "Mô hình sẽ được huấn luyện trên: cuda:0\n",
      "Đã đóng băng các lớp pretrained và chỉ huấn luyện lớp đầu ra mới.\n"
     ]
    }
   ],
   "source": [
    "# Tải và Điều chỉnh Mô hình ResNet-18 đã được huấn luyện trước\n",
    "import torch\n",
    "import torchvision\n",
    "import torch.nn as nn\n",
    "\n",
    "# Tải mô hình ResNet-18 đã được huấn luyện trước (theo slide)\n",
    "print(\"Đang tải mô hình ResNet-18 đã được huấn luyện trước...\")\n",
    "resnet18 = torchvision.models.resnet18(pretrained=True)\n",
    "print(\"Đã tải xong mô hình ResNet-18.\")\n",
    "\n",
    "# In cấu trúc mô hình để kiểm tra\n",
    "print(\"\\nCấu trúc mô hình ResNet-18:\")\n",
    "print(resnet18)\n",
    "\n",
    "# Điều chỉnh lớp cuối cùng của mô hình cho 10 lớp đầu ra (CIFAR-10) (\n",
    "num_ftrs = resnet18.fc.in_features\n",
    "resnet18.fc = nn.Linear(num_ftrs, 10)\n",
    "print(f\"\\nĐã thay đổi lớp cuối cùng của ResNet-18 để có {10} lớp đầu ra.\")\n",
    "\n",
    "# Xác định thiết bị tính toán (CPU hoặc GPU) (theo các phiên bản trước đó)\n",
    "device = torch.device(\"cuda:0\" if torch.cuda.is_available() else \"cpu\")\n",
    "resnet18.to(device)\n",
    "print(f\"Mô hình sẽ được huấn luyện trên: {device}\")\n",
    "\n",
    "# Đóng băng tất cả các tham số của mô hình pretrained (transfer learning)\n",
    "# Theo slide \"Reusing Pre-trained Layers (Transfer Learning)\" và yêu cầu chung của Practice 2\n",
    "for param in resnet18.parameters():\n",
    "    param.requires_grad = False\n",
    "# Chỉ cho phép lớp fc mới được cập nhật trọng số (huấn luyện)\n",
    "resnet18.fc.weight.requires_grad = True\n",
    "resnet18.fc.bias.requires_grad = True\n",
    "print(\"Đã đóng băng các lớp pretrained và chỉ huấn luyện lớp đầu ra mới.\")\n"
   ]
  },
  {
   "cell_type": "code",
   "execution_count": null,
   "id": "4a874d7a",
   "metadata": {},
   "outputs": [
    {
     "name": "stdout",
     "output_type": "stream",
     "text": [
      "\n",
      "Đang tải và chuẩn bị tập dữ liệu CIFAR-10...\n",
      "Đã chuẩn bị xong tập dữ liệu CIFAR-10.\n"
     ]
    }
   ],
   "source": [
    "# Chuẩn bị Dữ liệu với `torchvision.datasets.CIFAR10` và `DataLoader`\n",
    "import torchvision.transforms as transforms\n",
    "from torch.utils.data import DataLoader\n",
    "\n",
    "# Định nghĩa các phép biến đổi dữ liệu (using the CIFAR-10 dataset)\")\n",
    "transform = transforms.Compose([\n",
    "    transforms.ToTensor(),\n",
    "    transforms.Normalize((0.5, 0.5, 0.5), (0.5, 0.5, 0.5))\n",
    "])\n",
    "\n",
    "# Tải và chuẩn bị tập dữ liệu CIFAR-10 \n",
    "print(\"\\nĐang tải và chuẩn bị tập dữ liệu CIFAR-10...\")\n",
    "# Sử dụng root='./data' theo slide\n",
    "trainset = torchvision.datasets.CIFAR10(root='./data', train=True,\n",
    "                                        download=True, transform=transform) # download=True sẽ bỏ qua nếu đã có\n",
    "trainloader = DataLoader(trainset, batch_size=4, # batch_size theo slide\n",
    "                                          shuffle=True, num_workers=2) \n",
    "\n",
    "testset = torchvision.datasets.CIFAR10(root='./data', train=False,\n",
    "                                       download=True, transform=transform) # download=True sẽ bỏ qua nếu đã có\n",
    "testloader = DataLoader(testset, batch_size=4, # batch_size theo slide\n",
    "                                         shuffle=False, num_workers=2) \n",
    "print(\"Đã chuẩn bị xong tập dữ liệu CIFAR-10.\")\n",
    "\n",
    "# Tên các lớp trong CIFAR-10\n",
    "classes = ('plane', 'car', 'bird', 'cat',\n",
    "           'deer', 'dog', 'frog', 'horse', 'ship', 'truck')\n"
   ]
  },
  {
   "cell_type": "code",
   "execution_count": null,
   "id": "d6dd34e7",
   "metadata": {},
   "outputs": [
    {
     "name": "stdout",
     "output_type": "stream",
     "text": [
      "\n",
      "Đã ghi đồ thị mô hình vào TensorBoard (hoặc đã bỏ qua).\n",
      "Đã ghi ảnh mẫu vào TensorBoard.\n"
     ]
    }
   ],
   "source": [
    "# Trực quan hóa Đồ thị Mô hình và Ảnh mẫu trong TensorBoard\n",
    "import torchvision.utils\n",
    "\n",
    "# Lấy một lô ảnh và nhãn\n",
    "dataiter = iter(trainloader)\n",
    "images, labels = next(dataiter)\n",
    "\n",
    "# Chuyển ảnh sang cùng thiết bị với mô hình để ghi đồ thị\n",
    "images = images.to(device)\n",
    "\n",
    "# Ghi đồ thị mô hình vào TensorBoard\n",
    "# Sau lần chạy đầu tiên thành công, bạn có thể comment dòng này lại để tăng tốc độ.\n",
    "# writer.add_graph(resnet18, images)\n",
    "print(\"\\nĐã ghi đồ thị mô hình vào TensorBoard (hoặc đã bỏ qua).\")\n",
    "\n",
    "\n",
    "# Tạo lưới ảnh và ghi vào TensorBoard\n",
    "img_grid = torchvision.utils.make_grid(images.cpu()) # Chuyển về CPU để tạo lưới ảnh\n",
    "writer.add_image('CIFAR10_images', img_grid)\n",
    "print(\"Đã ghi ảnh mẫu vào TensorBoard.\")"
   ]
  },
  {
   "cell_type": "code",
   "execution_count": 9,
   "id": "e8a683b0",
   "metadata": {},
   "outputs": [
    {
     "name": "stdout",
     "output_type": "stream",
     "text": [
      "\n",
      "Đã định nghĩa hàm mất mát và bộ tối ưu hóa.\n"
     ]
    }
   ],
   "source": [
    "# Định nghĩa Hàm mất mát và Bộ tối ưu hóa\n",
    "# Sử dụng `CrossEntropyLoss` cho bài toán phân loại đa lớp.\n",
    "import torch.optim\n",
    "\n",
    "# Hàm mất mát (using the CIFAR-10 dataset)\n",
    "criterion = nn.CrossEntropyLoss()\n",
    "# Bộ tối ưu hóa (using the CIFAR-10 dataset)\n",
    "optimizer = torch.optim.SGD(resnet18.parameters(), lr=0.001, momentum=0.9)\n",
    "print(\"\\nĐã định nghĩa hàm mất mát và bộ tối ưu hóa.\")"
   ]
  },
  {
   "cell_type": "code",
   "execution_count": 10,
   "id": "40df18b0",
   "metadata": {},
   "outputs": [
    {
     "name": "stdout",
     "output_type": "stream",
     "text": [
      "Bắt đầu huấn luyện mô hình...\n",
      "[1,  2000] loss: 2.552\n",
      "[1,  4000] loss: 2.593\n",
      "[1,  6000] loss: 2.617\n",
      "[1,  8000] loss: 2.628\n",
      "[1, 10000] loss: 2.596\n",
      "[1, 12000] loss: 2.594\n",
      "[2,  2000] loss: 2.614\n",
      "[2,  4000] loss: 2.654\n",
      "[2,  6000] loss: 2.588\n",
      "[2,  8000] loss: 2.639\n",
      "[2, 10000] loss: 2.639\n",
      "[2, 12000] loss: 2.598\n",
      "Hoàn thành huấn luyện.\n"
     ]
    }
   ],
   "source": [
    "# Huấn luyện Mô hình\n",
    "print(\"Bắt đầu huấn luyện mô hình...\")\n",
    "global_step = 0 # Biến đếm bước toàn cục cho TensorBoard (đã thêm vào các phiên bản trước đó)\n",
    "num_epochs = 2 # Số lượng epoch huấn luyện\n",
    "\n",
    "for epoch in range(num_epochs):\n",
    "    running_loss = 0.0\n",
    "    for i, data in enumerate(trainloader, 0):\n",
    "        inputs, labels = data\n",
    "        inputs, labels = inputs.to(device), labels.to(device) # Chuyển dữ liệu sang thiết bị\n",
    "\n",
    "        optimizer.zero_grad() \n",
    "        outputs = resnet18(inputs) # Lan truyền tiến \n",
    "        loss = criterion(outputs, labels) # Tính toán mất mát\n",
    "        loss.backward() # Lan truyền ngược\n",
    "        optimizer.step() # Cập nhật trọng số\n",
    "\n",
    "        running_loss += loss.item() # Cộng dồn mất mát\n",
    "        if i % 2000 == 1999: # Cứ sau 2000 lô thì in ra và ghi log \n",
    "            print(f'[{epoch + 1}, {i + 1:5d}] loss: {running_loss / 2000:.3f}')\n",
    "            # Ghi training loss vào TensorBoard\n",
    "            writer.add_scalar('training loss',\n",
    "                              running_loss / 2000,\n",
    "                              epoch * len(trainloader) + i)\n",
    "            running_loss = 0.0 # Đặt lại mất mát tích lũy\n",
    "    global_step += 1 # Tăng bước toàn cục sau mỗi epoch\n",
    "\n",
    "print('Hoàn thành huấn luyện.')\n"
   ]
  },
  {
   "cell_type": "code",
   "execution_count": 11,
   "id": "88fb7b6e",
   "metadata": {},
   "outputs": [
    {
     "name": "stdout",
     "output_type": "stream",
     "text": [
      "\n",
      "Bắt đầu đánh giá mô hình trên tập kiểm tra...\n",
      "Độ chính xác của mô hình trên 10000 ảnh kiểm tra: 25.60%\n",
      "Đã đóng SummaryWriter.\n",
      "\n",
      "Để xem trực quan hóa TensorBoard, mở terminal (trong cùng thư mục với notebook này) và chạy:\n",
      "tensorboard --logdir=runs\n",
      "Sau đó truy cập http://localhost:6006 trong trình duyệt của bạn.\n"
     ]
    }
   ],
   "source": [
    "# Đánh giá Mô hình và Đóng TensorBoard Writer\n",
    "# Đánh giá hiệu suất của mô hình trên tập kiểm tra và ghi độ chính xác vào TensorBoard.\n",
    "print(\"\\nBắt đầu đánh giá mô hình trên tập kiểm tra...\")\n",
    "correct = 0\n",
    "total = 0\n",
    "resnet18.eval() # Đặt mô hình ở chế độ đánh giá\n",
    "with torch.no_grad(): # Tắt tính toán gradient\n",
    "    for data in testloader:\n",
    "        images, labels = data\n",
    "        images, labels = images.to(device), labels.to(device)\n",
    "\n",
    "        outputs = resnet18(images)\n",
    "        _, predicted = torch.max(outputs.data, 1)\n",
    "        total += labels.size(0)\n",
    "        correct += (predicted == labels).sum().item()\n",
    "\n",
    "accuracy = 100 * correct / total\n",
    "print(f'Độ chính xác của mô hình trên 10000 ảnh kiểm tra: {accuracy:.2f}%')\n",
    "# Ghi độ chính xác vào TensorBoard\n",
    "writer.add_scalar('Accuracy on Test Set', accuracy, num_epochs)\n",
    "\n",
    "# Đóng SummaryWriter\n",
    "print(\"Đã đóng SummaryWriter.\")\n",
    "\n",
    "print(\"\\nĐể xem trực quan hóa TensorBoard, mở terminal (trong cùng thư mục với notebook này) và chạy:\")\n",
    "print(\"tensorboard --logdir=runs\")\n",
    "print(\"Sau đó truy cập http://localhost:6006 trong trình duyệt của bạn.\")"
   ]
  }
 ],
 "metadata": {
  "kernelspec": {
   "display_name": "Python 3",
   "language": "python",
   "name": "python3"
  },
  "language_info": {
   "codemirror_mode": {
    "name": "ipython",
    "version": 3
   },
   "file_extension": ".py",
   "mimetype": "text/x-python",
   "name": "python",
   "nbconvert_exporter": "python",
   "pygments_lexer": "ipython3",
   "version": "3.13.5"
  }
 },
 "nbformat": 4,
 "nbformat_minor": 5
}
