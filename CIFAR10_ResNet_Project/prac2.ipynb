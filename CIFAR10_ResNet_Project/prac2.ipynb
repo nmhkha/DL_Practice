{
 "cells": [
  {
   "cell_type": "code",
   "execution_count": 14,
   "id": "b569effd",
   "metadata": {},
   "outputs": [
    {
     "name": "stdout",
     "output_type": "stream",
     "text": [
      "Đã khởi tạo SummaryWriter cho TensorBoard.\n"
     ]
    }
   ],
   "source": [
    "#%%\n",
    "# Import các thư viện cần thiết\n",
    "import torch\n",
    "import torchvision\n",
    "import torchvision.transforms as transforms\n",
    "import torch.nn as nn\n",
    "import torch.optim as optim\n",
    "from torch.utils.tensorboard import SummaryWriter\n",
    "import matplotlib.pyplot as plt\n",
    "import numpy as np\n",
    "\n",
    "# Khởi tạo SummaryWriter cho TensorBoard\n",
    "writer = SummaryWriter('runs/cifar10_resnet18_experiment')\n",
    "print(\"Đã khởi tạo SummaryWriter cho TensorBoard.\")"
   ]
  },
  {
   "cell_type": "code",
   "execution_count": 15,
   "id": "851b6c04",
   "metadata": {},
   "outputs": [
    {
     "name": "stdout",
     "output_type": "stream",
     "text": [
      "Đang tải mô hình ResNet-18 đã được huấn luyện trước...\n",
      "Đã tải xong mô hình ResNet-18.\n",
      "Đã thay đổi lớp cuối cùng của ResNet-18 để có 10 lớp đầu ra.\n",
      "Mô hình sẽ được huấn luyện trên: cuda:0\n",
      "Đã đóng băng các lớp pretrained và chỉ huấn luyện lớp đầu ra mới.\n"
     ]
    }
   ],
   "source": [
    "# Tải mô hình ResNet-18 đã được huấn luyện trước\n",
    "print(\"Đang tải mô hình ResNet-18 đã được huấn luyện trước...\")\n",
    "# pretrained=True: Tải trọng số đã được huấn luyện trên bộ ImageNet lớn\n",
    "resnet18 = torchvision.models.resnet18(pretrained=True)\n",
    "print(\"Đã tải xong mô hình ResNet-18.\")\n",
    "\n",
    "# Điều chỉnh lớp cuối cùng của mô hình cho 10 lớp đầu ra (CIFAR-10)\n",
    "# resnet18.fc: Lớp cuối cùng (fully connected) của ResNet-18\n",
    "num_ftrs = resnet18.fc.in_features # Số lượng đặc trưng đầu vào của lớp cuối\n",
    "resnet18.fc = nn.Linear(num_ftrs, 10) # Thay thế lớp cuối bằng một lớp Linear mới có 10 đầu ra (cho CIFAR-10)\n",
    "print(f\"Đã thay đổi lớp cuối cùng của ResNet-18 để có {10} lớp đầu ra.\")\n",
    "\n",
    "# Xác định thiết bị tính toán (CPU hoặc GPU)\n",
    "device = torch.device(\"cuda:0\" if torch.cuda.is_available() else \"cpu\")\n",
    "resnet18.to(device) # Chuyển mô hình sang thiết bị đã chọn (GPU hoặc CPU)\n",
    "print(f\"Mô hình sẽ được huấn luyện trên: {device}\")\n",
    "\n",
    "# Đóng băng tất cả các tham số (trọng số) của mô hình pretrained\n",
    "for param in resnet18.parameters():\n",
    "    param.requires_grad = False\n",
    "# Chỉ cho phép lớp fc mới được cập nhật trọng số (huấn luyện)\n",
    "resnet18.fc.weight.requires_grad = True\n",
    "resnet18.fc.bias.requires_grad = True\n",
    "print(\"Đã đóng băng các lớp pretrained và chỉ huấn luyện lớp đầu ra mới.\")"
   ]
  },
  {
   "cell_type": "code",
   "execution_count": 16,
   "id": "3d5ee7ee",
   "metadata": {},
   "outputs": [
    {
     "name": "stdout",
     "output_type": "stream",
     "text": [
      "Đang tải và chuẩn bị tập dữ liệu CIFAR-10...\n",
      "Đã chuẩn bị xong tập dữ liệu CIFAR-10.\n"
     ]
    }
   ],
   "source": [
    "\n",
    "# Định nghĩa các phép biến đổi dữ liệu\n",
    "transform = transforms.Compose([\n",
    "    transforms.ToTensor(), # Chuyển ảnh sang Tensor PyTorch\n",
    "    # Chuẩn hóa ảnh với giá trị trung bình (mean) và độ lệch chuẩn (std) cho 3 kênh màu\n",
    "    transforms.Normalize((0.5, 0.5, 0.5), (0.5, 0.5, 0.5))\n",
    "])\n",
    "\n",
    "# ... existing code ...\n",
    "\n",
    "# Tải và chuẩn bị tập dữ liệu CIFAR-10\n",
    "print(\"Đang tải và chuẩn bị tập dữ liệu CIFAR-10...\")\n",
    "# Sửa 'root='./DL_Practice/data'' thành 'root='./data''\n",
    "trainset = torchvision.datasets.CIFAR10(root='./data', train=True,\n",
    "                                        download=True, transform=transform)\n",
    "trainloader = torch.utils.data.DataLoader(trainset, batch_size=4,\n",
    "                                          shuffle=True, num_workers=2)\n",
    "\n",
    "# Sửa 'root='./DL_Practice/data'' thành 'root='./data''\n",
    "testset = torchvision.datasets.CIFAR10(root='./data', train=False,\n",
    "                                       download=True, transform=transform)\n",
    "testloader = torch.utils.data.DataLoader(testset, batch_size=4,\n",
    "                                         shuffle=False, num_workers=2)\n",
    "print(\"Đã chuẩn bị xong tập dữ liệu CIFAR-10.\")\n",
    "# Tên các lớp trong CIFAR-10 (để hiển thị trực quan)\n",
    "classes = ('plane', 'car', 'bird', 'cat',\n",
    "           'deer', 'dog', 'frog', 'horse', 'ship', 'truck')"
   ]
  },
  {
   "cell_type": "code",
   "execution_count": 17,
   "id": "e384f7eb",
   "metadata": {},
   "outputs": [
    {
     "name": "stdout",
     "output_type": "stream",
     "text": [
      "Đã ghi đồ thị mô hình vào TensorBoard.\n",
      "Đã ghi ảnh mẫu vào TensorBoard.\n"
     ]
    }
   ],
   "source": [
    "\n",
    "# Trực quan hóa ảnh mẫu và đồ thị mô hình trong TensorBoard\n",
    "dataiter = iter(trainloader) # Tạo iterator từ DataLoader\n",
    "images, labels = next(dataiter) # Lấy một lô ảnh và nhãn\n",
    "\n",
    "# ---- THÊM DÒNG NÀY ĐỂ CHUYỂN ẢNH SANG CÙNG THIẾT BỊ VỚI MÔ HÌNH ----\n",
    "images = images.to(device)\n",
    "# --------------------------------------------------------------------\n",
    "\n",
    "# Ghi đồ thị mô hình vào TensorBoard\n",
    "writer.add_graph(resnet18, images) # resnet18 là mô hình, images là đầu vào mẫu\n",
    "print(\"Đã ghi đồ thị mô hình vào TensorBoard.\")\n",
    "\n",
    "# Hiển thị một lưới ảnh mẫu vào TensorBoard\n",
    "img_grid = torchvision.utils.make_grid(images) # Tạo lưới ảnh từ lô ảnh\n",
    "writer.add_image('CIFAR10_images', img_grid) # Ghi lưới ảnh vào TensorBoard\n",
    "print(\"Đã ghi ảnh mẫu vào TensorBoard.\")"
   ]
  },
  {
   "cell_type": "code",
   "execution_count": 18,
   "id": "907c599d",
   "metadata": {},
   "outputs": [
    {
     "name": "stdout",
     "output_type": "stream",
     "text": [
      "Đã định nghĩa hàm mất mát và bộ tối ưu hóa.\n"
     ]
    }
   ],
   "source": [
    "#%%\n",
    "# Định nghĩa hàm mất mát và bộ tối ưu hóa\n",
    "criterion = nn.CrossEntropyLoss() # Hàm mất mát Cross-Entropy, phù hợp cho phân loại\n",
    "# optimizer: SGD (Stochastic Gradient Descent)\n",
    "# Chỉ tối ưu hóa các tham số mà require_grad=True (lớp fc mới)\n",
    "# lr=0.001: Tốc độ học\n",
    "# momentum=0.9: Tham số momentum giúp tăng tốc hội tụ\n",
    "optimizer = optim.SGD(filter(lambda p: p.requires_grad, resnet18.parameters()), lr=0.001, momentum=0.9)\n",
    "print(\"Đã định nghĩa hàm mất mát và bộ tối ưu hóa.\")"
   ]
  },
  {
   "cell_type": "code",
   "execution_count": 19,
   "id": "917adb30",
   "metadata": {},
   "outputs": [
    {
     "name": "stdout",
     "output_type": "stream",
     "text": [
      "Bắt đầu huấn luyện mô hình...\n",
      "[1,  2000] loss: 2.589\n",
      "[1,  4000] loss: 2.618\n",
      "[1,  6000] loss: 2.624\n",
      "[1,  8000] loss: 2.569\n",
      "[1, 10000] loss: 2.589\n",
      "[1, 12000] loss: 2.605\n",
      "[2,  2000] loss: 2.574\n",
      "[2,  4000] loss: 2.608\n",
      "[2,  6000] loss: 2.657\n",
      "[2,  8000] loss: 2.566\n",
      "[2, 10000] loss: 2.581\n",
      "[2, 12000] loss: 2.640\n",
      "Hoàn thành huấn luyện.\n"
     ]
    }
   ],
   "source": [
    "\n",
    "# Huấn luyện mô hình\n",
    "print(\"Bắt đầu huấn luyện mô hình...\")\n",
    "global_step = 0 # Biến đếm bước toàn cục cho TensorBoard\n",
    "num_epochs = 2 # Số lượng epoch huấn luyện\n",
    "\n",
    "for epoch in range(num_epochs): # Lặp qua từng epoch\n",
    "    running_loss = 0.0 # Mất mát tích lũy trong epoch\n",
    "    for i, data in enumerate(trainloader, 0): # Lặp qua từng lô dữ liệu\n",
    "        inputs, labels = data # Lấy ảnh và nhãn từ lô\n",
    "\n",
    "        # Chuyển dữ liệu sang thiết bị đã chọn (GPU/CPU)\n",
    "        inputs, labels = inputs.to(device), labels.to(device)\n",
    "\n",
    "        optimizer.zero_grad() # Đặt gradient về 0\n",
    "        outputs = resnet18(inputs) # Lan truyền tiến (dự đoán)\n",
    "        loss = criterion(outputs, labels) # Tính toán mất mát\n",
    "        loss.backward() # Lan truyền ngược (tính gradient)\n",
    "        optimizer.step() # Cập nhật trọng số\n",
    "\n",
    "        running_loss += loss.item() # Cộng dồn mất mát\n",
    "        if i % 2000 == 1999: # Cứ sau 2000 lô thì in ra và ghi log\n",
    "            print(f'[{epoch + 1}, {i + 1:5d}] loss: {running_loss / 2000:.3f}')\n",
    "            # Ghi training loss vào TensorBoard\n",
    "            writer.add_scalar('training loss',\n",
    "                              running_loss / 2000,\n",
    "                              epoch * len(trainloader) + i)\n",
    "            running_loss = 0.0 # Đặt lại mất mát tích lũy\n",
    "    global_step += 1 # Tăng bước toàn cục sau mỗi epoch\n",
    "\n",
    "print('Hoàn thành huấn luyện.')\n",
    "\n",
    "# Tùy chọn: Lưu mô hình đã huấn luyện\n",
    "# torch.save(resnet18.state_dict(), './DL_Practice/cifar10_resnet18_model.pth')\n",
    "# print(\"Đã lưu mô hình vào './DL_Practice/cifar10_resnet18_model.pth'\")"
   ]
  },
  {
   "cell_type": "code",
   "execution_count": 20,
   "id": "bad26efd",
   "metadata": {},
   "outputs": [
    {
     "name": "stdout",
     "output_type": "stream",
     "text": [
      "Bắt đầu đánh giá mô hình trên tập kiểm tra...\n",
      "Độ chính xác của mô hình trên 10000 ảnh kiểm tra: 25.82%\n",
      "Đã đóng SummaryWriter.\n",
      "\n",
      "Để xem trực quan hóa TensorBoard, mở terminal (trong cùng thư mục với notebook này) và chạy:\n",
      "tensorboard --logdir=runs\n",
      "Sau đó truy cập http://localhost:6006 trong trình duyệt của bạn.\n"
     ]
    }
   ],
   "source": [
    "#%%\n",
    "# Đánh giá mô hình trên tập kiểm tra\n",
    "print(\"Bắt đầu đánh giá mô hình trên tập kiểm tra...\")\n",
    "correct = 0 # Số lượng dự đoán đúng\n",
    "total = 0 # Tổng số mẫu\n",
    "resnet18.eval() # Đặt mô hình ở chế độ đánh giá (tắt dropout, batchnorm...)\n",
    "with torch.no_grad(): # Tắt tính toán gradient để tiết kiệm bộ nhớ và tăng tốc\n",
    "    for data in testloader:\n",
    "        images, labels = data\n",
    "\n",
    "        # Chuyển dữ liệu sang thiết bị đã chọn (GPU/CPU)\n",
    "        images, labels = images.to(device), labels.to(device)\n",
    "\n",
    "        outputs = resnet18(images) # Dự đoán\n",
    "        _, predicted = torch.max(outputs.data, 1) # Lấy nhãn dự đoán có xác suất cao nhất\n",
    "        total += labels.size(0) # Tăng tổng số mẫu\n",
    "        correct += (predicted == labels).sum().item() # Đếm số lượng dự đoán đúng\n",
    "\n",
    "accuracy = 100 * correct / total # Tính độ chính xác\n",
    "print(f'Độ chính xác của mô hình trên 10000 ảnh kiểm tra: {accuracy:.2f}%')\n",
    "# Ghi độ chính xác vào TensorBoard\n",
    "writer.add_scalar('Accuracy on Test Set', accuracy, num_epochs)\n",
    "\n",
    "# Đóng SummaryWriter\n",
    "writer.close()\n",
    "print(\"Đã đóng SummaryWriter.\")\n",
    "print(\"\\nĐể xem trực quan hóa TensorBoard, mở terminal (trong cùng thư mục với notebook này) và chạy:\")\n",
    "print(\"tensorboard --logdir=runs\")\n",
    "print(\"Sau đó truy cập http://localhost:6006 trong trình duyệt của bạn.\")"
   ]
  }
 ],
 "metadata": {
  "kernelspec": {
   "display_name": "Python 3",
   "language": "python",
   "name": "python3"
  },
  "language_info": {
   "codemirror_mode": {
    "name": "ipython",
    "version": 3
   },
   "file_extension": ".py",
   "mimetype": "text/x-python",
   "name": "python",
   "nbconvert_exporter": "python",
   "pygments_lexer": "ipython3",
   "version": "3.13.5"
  }
 },
 "nbformat": 4,
 "nbformat_minor": 5
}
