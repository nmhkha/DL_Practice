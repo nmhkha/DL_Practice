{
 "cells": [
  {
   "cell_type": "markdown",
   "id": "873874d9",
   "metadata": {},
   "source": [
    "# practice Ex1: Sentiment Analysis with Hugging Face\n",
    "Nguyễn Văn Thương-077205005581"
   ]
  },
  {
   "cell_type": "markdown",
   "id": "c56430b6",
   "metadata": {},
   "source": [
    "# Step 1: Cài đặt thư viện transformers\n",
    "đã cài !"
   ]
  },
  {
   "cell_type": "markdown",
   "id": "8f259c4a",
   "metadata": {},
   "source": [
    "# Step 2: Import và tải model phân tích cảm xúc có sẵn"
   ]
  },
  {
   "cell_type": "code",
   "execution_count": 1,
   "id": "ce099f44",
   "metadata": {},
   "outputs": [
    {
     "name": "stderr",
     "output_type": "stream",
     "text": [
      "c:\\Users\\nguye\\AppData\\Local\\Programs\\Python\\Python312\\Lib\\site-packages\\tqdm\\auto.py:21: TqdmWarning: IProgress not found. Please update jupyter and ipywidgets. See https://ipywidgets.readthedocs.io/en/stable/user_install.html\n",
      "  from .autonotebook import tqdm as notebook_tqdm\n"
     ]
    }
   ],
   "source": [
    "from transformers import pipeline"
   ]
  },
  {
   "cell_type": "code",
   "execution_count": 4,
   "id": "c6f65e14",
   "metadata": {},
   "outputs": [
    {
     "name": "stderr",
     "output_type": "stream",
     "text": [
      "No model was supplied, defaulted to distilbert/distilbert-base-uncased-finetuned-sst-2-english and revision 714eb0f (https://huggingface.co/distilbert/distilbert-base-uncased-finetuned-sst-2-english).\n",
      "Using a pipeline without specifying a model name and revision in production is not recommended.\n"
     ]
    },
    {
     "name": "stdout",
     "output_type": "stream",
     "text": [
      "WARNING:tensorflow:From C:\\Users\\nguye\\AppData\\Roaming\\Python\\Python312\\site-packages\\tf_keras\\src\\losses.py:2976: The name tf.losses.sparse_softmax_cross_entropy is deprecated. Please use tf.compat.v1.losses.sparse_softmax_cross_entropy instead.\n",
      "\n"
     ]
    },
    {
     "name": "stderr",
     "output_type": "stream",
     "text": [
      "Xet Storage is enabled for this repo, but the 'hf_xet' package is not installed. Falling back to regular HTTP download. For better performance, install the package with: `pip install huggingface_hub[hf_xet]` or `pip install hf_xet`\n",
      "Device set to use cpu\n"
     ]
    }
   ],
   "source": [
    "# Tải pipeline cho sentiment-analysis \n",
    "sentiment_analyzer = pipeline(\"sentiment-analysis\")"
   ]
  },
  {
   "cell_type": "markdown",
   "id": "667b805c",
   "metadata": {},
   "source": [
    "# Step 3: Tokenize và nhập câu mẫu"
   ]
  },
  {
   "cell_type": "code",
   "execution_count": 5,
   "id": "c002723c",
   "metadata": {},
   "outputs": [],
   "source": [
    "sentence = \"I love studying deep learning with Hugging Face!\""
   ]
  },
  {
   "cell_type": "markdown",
   "id": "fa4f83d4",
   "metadata": {},
   "source": [
    "# Step 4: Thực hiện phân tích cảm xúc"
   ]
  },
  {
   "cell_type": "code",
   "execution_count": 6,
   "id": "cbe169b5",
   "metadata": {},
   "outputs": [],
   "source": [
    "result = sentiment_analyzer(sentence)"
   ]
  },
  {
   "cell_type": "code",
   "execution_count": 8,
   "id": "b042b07e",
   "metadata": {},
   "outputs": [
    {
     "name": "stdout",
     "output_type": "stream",
     "text": [
      "Sentence: I love studying deep learning with Hugging Face!\n",
      "[{'label': 'POSITIVE', 'score': 0.9997504353523254}]\n"
     ]
    }
   ],
   "source": [
    "# In kết quả\n",
    "print(\"Sentence:\", sentence)\n",
    "print(result)"
   ]
  }
 ],
 "metadata": {
  "kernelspec": {
   "display_name": "Python 3",
   "language": "python",
   "name": "python3"
  },
  "language_info": {
   "codemirror_mode": {
    "name": "ipython",
    "version": 3
   },
   "file_extension": ".py",
   "mimetype": "text/x-python",
   "name": "python",
   "nbconvert_exporter": "python",
   "pygments_lexer": "ipython3",
   "version": "3.12.6"
  }
 },
 "nbformat": 4,
 "nbformat_minor": 5
}
