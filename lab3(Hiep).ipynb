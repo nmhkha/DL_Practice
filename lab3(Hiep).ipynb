{
 "cells": [
  {
   "cell_type": "code",
   "execution_count": 26,
   "id": "e31e1f2f",
   "metadata": {},
   "outputs": [
    {
     "data": {
      "application/vnd.jupyter.widget-view+json": {
       "model_id": "1308254d1a2640a3b8acc0f08bf1d59e",
       "version_major": 2,
       "version_minor": 0
      },
      "text/plain": [
       "VBox(children=(HTML(value='<center> <img\\nsrc=https://huggingface.co/front/assets/huggingface_logo-noborder.sv…"
      ]
     },
     "metadata": {},
     "output_type": "display_data"
    }
   ],
   "source": [
    "from huggingface_hub import login\n",
    "\n",
    "login()"
   ]
  },
  {
   "cell_type": "code",
   "execution_count": 27,
   "id": "5938ef63",
   "metadata": {},
   "outputs": [],
   "source": [
    "from transformers import pipeline\n"
   ]
  },
  {
   "cell_type": "code",
   "execution_count": 28,
   "id": "49976e19",
   "metadata": {},
   "outputs": [
    {
     "name": "stderr",
     "output_type": "stream",
     "text": [
      "No model was supplied, defaulted to distilbert/distilbert-base-uncased-finetuned-sst-2-english and revision 714eb0f (https://huggingface.co/distilbert/distilbert-base-uncased-finetuned-sst-2-english).\n",
      "Using a pipeline without specifying a model name and revision in production is not recommended.\n",
      "Device set to use cpu\n"
     ]
    }
   ],
   "source": [
    "sentiment_analyzer = pipeline(\"sentiment-analysis\")\n"
   ]
  },
  {
   "cell_type": "code",
   "execution_count": 29,
   "id": "5ed9f630",
   "metadata": {},
   "outputs": [],
   "source": [
    "sentence = \"I am a kind person\"\n",
    "result = sentiment_analyzer(sentence)"
   ]
  },
  {
   "cell_type": "code",
   "execution_count": 30,
   "id": "8bda8c37",
   "metadata": {},
   "outputs": [
    {
     "name": "stdout",
     "output_type": "stream",
     "text": [
      "I am a kind person\n",
      "[{'label': 'POSITIVE', 'score': 0.9997425675392151}]\n"
     ]
    }
   ],
   "source": [
    "print(sentence)\n",
    "print(result)"
   ]
  },
  {
   "cell_type": "code",
   "execution_count": 31,
   "id": "7b6d26bf",
   "metadata": {},
   "outputs": [],
   "source": [
    "sentences = [\n",
    "    \"I hate cat.\",\n",
    "    \"The movie was fantastic!\",\n",
    "    \"oh beautiful girl.\"\n",
    "]\n",
    "results = sentiment_analyzer(sentences)"
   ]
  },
  {
   "cell_type": "code",
   "execution_count": 32,
   "id": "36299560",
   "metadata": {},
   "outputs": [
    {
     "name": "stdout",
     "output_type": "stream",
     "text": [
      "Kết quả các câu\n",
      "'I hate cat.': NEGATIVE (1.00)\n",
      "'The movie was fantastic!': POSITIVE (1.00)\n",
      "'oh beautiful girl.': POSITIVE (1.00)\n"
     ]
    }
   ],
   "source": [
    "print(\"Kết quả các câu\")\n",
    "for sentence, results in zip(sentences, results):\n",
    "    print(f\"'{sentence}': {results['label']} ({results['score']:.2f})\")"
   ]
  }
 ],
 "metadata": {
  "kernelspec": {
   "display_name": "torch312",
   "language": "python",
   "name": "python3"
  },
  "language_info": {
   "codemirror_mode": {
    "name": "ipython",
    "version": 3
   },
   "file_extension": ".py",
   "mimetype": "text/x-python",
   "name": "python",
   "nbconvert_exporter": "python",
   "pygments_lexer": "ipython3",
   "version": "3.12.11"
  }
 },
 "nbformat": 4,
 "nbformat_minor": 5
}
